{
  "nbformat": 4,
  "nbformat_minor": 0,
  "metadata": {
    "colab": {
      "name": "senti.ipynb",
      "provenance": [],
      "collapsed_sections": [],
      "authorship_tag": "ABX9TyPy99Bqfzk//3MftKMFFK4q",
      "include_colab_link": true
    },
    "kernelspec": {
      "name": "python3",
      "display_name": "Python 3"
    },
    "language_info": {
      "name": "python"
    }
  },
  "cells": [
    {
      "cell_type": "markdown",
      "metadata": {
        "id": "view-in-github",
        "colab_type": "text"
      },
      "source": [
        "<a href=\"https://colab.research.google.com/github/alwinshaju08/ec-test/blob/master/senti.ipynb\" target=\"_parent\"><img src=\"https://colab.research.google.com/assets/colab-badge.svg\" alt=\"Open In Colab\"/></a>"
      ]
    },
    {
      "cell_type": "code",
      "metadata": {
        "id": "ikem7mhrx8zS"
      },
      "source": [
        "import numpy as np\n",
        "import pandas as pd\n",
        "import matplotlib.pyplot as plt\n",
        "import tensorflow as tf\n",
        "from tensorflow.keras.preprocessing.text import Tokenizer\n",
        "from keras.utils import to_categorical\n",
        "from tensorflow.keras.preprocessing.sequence import pad_sequences"
      ],
      "execution_count": 1,
      "outputs": []
    },
    {
      "cell_type": "code",
      "metadata": {
        "colab": {
          "base_uri": "https://localhost:8080/"
        },
        "id": "AQEBxNhmy399",
        "outputId": "1a80e1c7-1abb-491e-f541-ded400347440"
      },
      "source": [
        "from google.colab import drive\n",
        "drive.mount('/content/gdrive')"
      ],
      "execution_count": 5,
      "outputs": [
        {
          "output_type": "stream",
          "text": [
            "Mounted at /content/gdrive\n"
          ],
          "name": "stdout"
        }
      ]
    },
    {
      "cell_type": "code",
      "metadata": {
        "id": "Al7aigRN3lVF"
      },
      "source": [
        "path='/content/gdrive/MyDrive/kaggle'"
      ],
      "execution_count": 10,
      "outputs": []
    },
    {
      "cell_type": "code",
      "metadata": {
        "id": "YWlZbYxa4l86"
      },
      "source": [
        "df = pd.read_csv(\"/content/gdrive/MyDrive/kaggle/IMDB Dataset.csv\")\n",
        "\n",
        "train_set = 45000\n",
        "max_len_text = 2000\n",
        "\n",
        "df['sentiment'] = df['sentiment'].replace('positive', 1)\n",
        "df['sentiment'] = df['sentiment'].replace('negative', 0)\n"
      ],
      "execution_count": 14,
      "outputs": []
    },
    {
      "cell_type": "code",
      "metadata": {
        "id": "Uop891GG45XH"
      },
      "source": [
        "tokenizer = Tokenizer(num_words=10000)\n",
        "tokenizer.fit_on_texts(df['review'])\n",
        "vector = tokenizer.texts_to_sequences(df['review'])"
      ],
      "execution_count": 15,
      "outputs": []
    },
    {
      "cell_type": "code",
      "metadata": {
        "id": "TqkcJHdz5CVy"
      },
      "source": [
        "train_data = np.array(vector)[:train_set]\n",
        "train_label = (np.array(df['sentiment'])[:train_set])\n",
        "test_data = np.array(vector)[train_set:]\n",
        "test_label = (np.array(df['sentiment'])[train_set:])"
      ],
      "execution_count": null,
      "outputs": []
    },
    {
      "cell_type": "code",
      "metadata": {
        "id": "3zCE-5Qe5WLx"
      },
      "source": [
        "padded_train = pad_sequences(train_data, maxlen=max_len_text)\n",
        "padded_test = pad_sequences(test_data, maxlen=max_len_text)\n"
      ],
      "execution_count": 25,
      "outputs": []
    },
    {
      "cell_type": "code",
      "metadata": {
        "id": "iONX5qu75Zpe"
      },
      "source": [
        "model = tf.keras.Sequential()\n",
        "model.add(tf.keras.layers.Embedding(13000, 16, input_length=max_len_text))\n",
        "model.add(tf.keras.layers.Bidirectional(tf.keras.layers.LSTM(64, dropout=0.2)))\n",
        "model.add(tf.keras.layers.Dense(1, activation='sigmoid'))\n",
        "model.summary()"
      ],
      "execution_count": null,
      "outputs": []
    },
    {
      "cell_type": "code",
      "metadata": {
        "id": "lvAxvAa35fZc"
      },
      "source": [
        "model.compile(loss='binary_crossentropy', optimizer='adam', metrics=['accuracy'])"
      ],
      "execution_count": 28,
      "outputs": []
    },
    {
      "cell_type": "code",
      "metadata": {
        "id": "EQUxRKi474p_"
      },
      "source": [
        "history = model.fit(padded_train, train_label, epochs=4, validation_data=(padded_test, test_label))\n"
      ],
      "execution_count": null,
      "outputs": []
    }
  ]
}