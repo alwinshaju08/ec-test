{
  "nbformat": 4,
  "nbformat_minor": 0,
  "metadata": {
    "colab": {
      "name": "sensors.ipynb",
      "provenance": []
    },
    "kernelspec": {
      "name": "python3",
      "display_name": "Python 3"
    },
    "language_info": {
      "name": "python"
    }
  },
  "cells": [
    {
      "cell_type": "code",
      "metadata": {
        "id": "s5IsrY4U6cAb"
      },
      "source": [
        "import numpy as np\n",
        "import pandas as pd\n",
        "\n",
        "import matplotlib.pyplot as plt\n",
        "import seaborn as sns\n",
        "sns.set_style('darkgrid')\n",
        "\n",
        "from sklearn.preprocessing import StandardScaler\n",
        "from sklearn.model_selection import train_test_split\n",
        "\n",
        "from sklearn.linear_model import LinearRegression"
      ],
      "execution_count": 2,
      "outputs": []
    },
    {
      "cell_type": "code",
      "metadata": {
        "colab": {
          "base_uri": "https://localhost:8080/"
        },
        "id": "LFL0Lbmk6mZe",
        "outputId": "c1a7c26a-b371-4f01-c8ac-d4b9626c10db"
      },
      "source": [
        "from google.colab import drive\n",
        "drive.mount('/content/drive/')"
      ],
      "execution_count": 3,
      "outputs": [
        {
          "output_type": "stream",
          "text": [
            "Mounted at /content/drive/\n"
          ],
          "name": "stdout"
        }
      ]
    },
    {
      "cell_type": "code",
      "metadata": {
        "id": "_hyjIm6O7vm3"
      },
      "source": [
        "data=pd.read_csv('/content/drive/MyDrive/temperature sensor/measures_v2.csv')"
      ],
      "execution_count": 4,
      "outputs": []
    },
    {
      "cell_type": "code",
      "metadata": {
        "colab": {
          "base_uri": "https://localhost:8080/",
          "height": 215
        },
        "id": "cKbSFaX28jHi",
        "outputId": "ccfcf084-db28-407a-8501-fb6af31feb25"
      },
      "source": [
        "data.head()"
      ],
      "execution_count": 5,
      "outputs": [
        {
          "output_type": "execute_result",
          "data": {
            "text/html": [
              "<div>\n",
              "<style scoped>\n",
              "    .dataframe tbody tr th:only-of-type {\n",
              "        vertical-align: middle;\n",
              "    }\n",
              "\n",
              "    .dataframe tbody tr th {\n",
              "        vertical-align: top;\n",
              "    }\n",
              "\n",
              "    .dataframe thead th {\n",
              "        text-align: right;\n",
              "    }\n",
              "</style>\n",
              "<table border=\"1\" class=\"dataframe\">\n",
              "  <thead>\n",
              "    <tr style=\"text-align: right;\">\n",
              "      <th></th>\n",
              "      <th>u_q</th>\n",
              "      <th>coolant</th>\n",
              "      <th>stator_winding</th>\n",
              "      <th>u_d</th>\n",
              "      <th>stator_tooth</th>\n",
              "      <th>motor_speed</th>\n",
              "      <th>i_d</th>\n",
              "      <th>i_q</th>\n",
              "      <th>pm</th>\n",
              "      <th>stator_yoke</th>\n",
              "      <th>ambient</th>\n",
              "      <th>torque</th>\n",
              "      <th>profile_id</th>\n",
              "    </tr>\n",
              "  </thead>\n",
              "  <tbody>\n",
              "    <tr>\n",
              "      <th>0</th>\n",
              "      <td>-0.450682</td>\n",
              "      <td>18.805172</td>\n",
              "      <td>19.086670</td>\n",
              "      <td>-0.350055</td>\n",
              "      <td>18.293219</td>\n",
              "      <td>0.002866</td>\n",
              "      <td>0.004419</td>\n",
              "      <td>0.000328</td>\n",
              "      <td>24.554214</td>\n",
              "      <td>18.316547</td>\n",
              "      <td>19.850691</td>\n",
              "      <td>0.187101</td>\n",
              "      <td>17</td>\n",
              "    </tr>\n",
              "    <tr>\n",
              "      <th>1</th>\n",
              "      <td>-0.325737</td>\n",
              "      <td>18.818571</td>\n",
              "      <td>19.092390</td>\n",
              "      <td>-0.305803</td>\n",
              "      <td>18.294807</td>\n",
              "      <td>0.000257</td>\n",
              "      <td>0.000606</td>\n",
              "      <td>-0.000785</td>\n",
              "      <td>24.538078</td>\n",
              "      <td>18.314955</td>\n",
              "      <td>19.850672</td>\n",
              "      <td>0.245417</td>\n",
              "      <td>17</td>\n",
              "    </tr>\n",
              "    <tr>\n",
              "      <th>2</th>\n",
              "      <td>-0.440864</td>\n",
              "      <td>18.828770</td>\n",
              "      <td>19.089380</td>\n",
              "      <td>-0.372503</td>\n",
              "      <td>18.294094</td>\n",
              "      <td>0.002355</td>\n",
              "      <td>0.001290</td>\n",
              "      <td>0.000386</td>\n",
              "      <td>24.544693</td>\n",
              "      <td>18.326307</td>\n",
              "      <td>19.850657</td>\n",
              "      <td>0.176615</td>\n",
              "      <td>17</td>\n",
              "    </tr>\n",
              "    <tr>\n",
              "      <th>3</th>\n",
              "      <td>-0.327026</td>\n",
              "      <td>18.835567</td>\n",
              "      <td>19.083031</td>\n",
              "      <td>-0.316199</td>\n",
              "      <td>18.292542</td>\n",
              "      <td>0.006105</td>\n",
              "      <td>0.000026</td>\n",
              "      <td>0.002046</td>\n",
              "      <td>24.554018</td>\n",
              "      <td>18.330833</td>\n",
              "      <td>19.850647</td>\n",
              "      <td>0.238303</td>\n",
              "      <td>17</td>\n",
              "    </tr>\n",
              "    <tr>\n",
              "      <th>4</th>\n",
              "      <td>-0.471150</td>\n",
              "      <td>18.857033</td>\n",
              "      <td>19.082525</td>\n",
              "      <td>-0.332272</td>\n",
              "      <td>18.291428</td>\n",
              "      <td>0.003133</td>\n",
              "      <td>-0.064317</td>\n",
              "      <td>0.037184</td>\n",
              "      <td>24.565397</td>\n",
              "      <td>18.326662</td>\n",
              "      <td>19.850639</td>\n",
              "      <td>0.208197</td>\n",
              "      <td>17</td>\n",
              "    </tr>\n",
              "  </tbody>\n",
              "</table>\n",
              "</div>"
            ],
            "text/plain": [
              "        u_q    coolant  stator_winding  ...    ambient    torque  profile_id\n",
              "0 -0.450682  18.805172       19.086670  ...  19.850691  0.187101          17\n",
              "1 -0.325737  18.818571       19.092390  ...  19.850672  0.245417          17\n",
              "2 -0.440864  18.828770       19.089380  ...  19.850657  0.176615          17\n",
              "3 -0.327026  18.835567       19.083031  ...  19.850647  0.238303          17\n",
              "4 -0.471150  18.857033       19.082525  ...  19.850639  0.208197          17\n",
              "\n",
              "[5 rows x 13 columns]"
            ]
          },
          "metadata": {
            "tags": []
          },
          "execution_count": 5
        }
      ]
    },
    {
      "cell_type": "code",
      "metadata": {
        "colab": {
          "base_uri": "https://localhost:8080/"
        },
        "id": "KvuH1Vc68wOI",
        "outputId": "48306333-0799-4cc4-8f59-2feab03620c6"
      },
      "source": [
        "data.info()"
      ],
      "execution_count": 6,
      "outputs": [
        {
          "output_type": "stream",
          "text": [
            "<class 'pandas.core.frame.DataFrame'>\n",
            "RangeIndex: 1330816 entries, 0 to 1330815\n",
            "Data columns (total 13 columns):\n",
            " #   Column          Non-Null Count    Dtype  \n",
            "---  ------          --------------    -----  \n",
            " 0   u_q             1330816 non-null  float64\n",
            " 1   coolant         1330816 non-null  float64\n",
            " 2   stator_winding  1330816 non-null  float64\n",
            " 3   u_d             1330816 non-null  float64\n",
            " 4   stator_tooth    1330816 non-null  float64\n",
            " 5   motor_speed     1330816 non-null  float64\n",
            " 6   i_d             1330816 non-null  float64\n",
            " 7   i_q             1330816 non-null  float64\n",
            " 8   pm              1330816 non-null  float64\n",
            " 9   stator_yoke     1330816 non-null  float64\n",
            " 10  ambient         1330816 non-null  float64\n",
            " 11  torque          1330816 non-null  float64\n",
            " 12  profile_id      1330816 non-null  int64  \n",
            "dtypes: float64(12), int64(1)\n",
            "memory usage: 132.0 MB\n"
          ],
          "name": "stdout"
        }
      ]
    },
    {
      "cell_type": "markdown",
      "metadata": {
        "id": "1K0eRu8Y_HM0"
      },
      "source": [
        "preprocessing"
      ]
    },
    {
      "cell_type": "code",
      "metadata": {
        "id": "YBb2iDkK8zZw"
      },
      "source": [
        "def preprocess_inputs(df):\n",
        "    df = df.copy()\n",
        "    \n",
        "    # Drop profile_id column\n",
        "    df = df.drop('profile_id', axis=1)\n",
        "    \n",
        "    # Split df into X and y\n",
        "    y = df['pm'].copy()\n",
        "    X = df.drop('pm', axis=1).copy()\n",
        "    \n",
        "    scaler = StandardScaler()\n",
        "    X = pd.DataFrame(scaler.fit_transform(X), columns=X.columns)\n",
        "    \n",
        "    return X, y\n"
      ],
      "execution_count": 7,
      "outputs": []
    },
    {
      "cell_type": "code",
      "metadata": {
        "id": "jJcEeQfQ8-oY"
      },
      "source": [
        "X, y = preprocess_inputs(data)"
      ],
      "execution_count": 8,
      "outputs": []
    },
    {
      "cell_type": "code",
      "metadata": {
        "colab": {
          "base_uri": "https://localhost:8080/",
          "height": 402
        },
        "id": "NLnJ_cD09F5Y",
        "outputId": "88597615-5436-4ad8-ee6e-5cc1c4f1bc49"
      },
      "source": [
        "X"
      ],
      "execution_count": 9,
      "outputs": [
        {
          "output_type": "execute_result",
          "data": {
            "text/html": [
              "<div>\n",
              "<style scoped>\n",
              "    .dataframe tbody tr th:only-of-type {\n",
              "        vertical-align: middle;\n",
              "    }\n",
              "\n",
              "    .dataframe tbody tr th {\n",
              "        vertical-align: top;\n",
              "    }\n",
              "\n",
              "    .dataframe thead th {\n",
              "        text-align: right;\n",
              "    }\n",
              "</style>\n",
              "<table border=\"1\" class=\"dataframe\">\n",
              "  <thead>\n",
              "    <tr style=\"text-align: right;\">\n",
              "      <th></th>\n",
              "      <th>u_q</th>\n",
              "      <th>coolant</th>\n",
              "      <th>stator_winding</th>\n",
              "      <th>u_d</th>\n",
              "      <th>stator_tooth</th>\n",
              "      <th>motor_speed</th>\n",
              "      <th>i_d</th>\n",
              "      <th>i_q</th>\n",
              "      <th>stator_yoke</th>\n",
              "      <th>ambient</th>\n",
              "      <th>torque</th>\n",
              "    </tr>\n",
              "  </thead>\n",
              "  <tbody>\n",
              "    <tr>\n",
              "      <th>0</th>\n",
              "      <td>-1.238979</td>\n",
              "      <td>-0.799812</td>\n",
              "      <td>-1.648158</td>\n",
              "      <td>0.392820</td>\n",
              "      <td>-1.681117</td>\n",
              "      <td>-1.184128</td>\n",
              "      <td>1.058337</td>\n",
              "      <td>-0.405855</td>\n",
              "      <td>-1.494244</td>\n",
              "      <td>-2.443386</td>\n",
              "      <td>-0.400838</td>\n",
              "    </tr>\n",
              "    <tr>\n",
              "      <th>1</th>\n",
              "      <td>-1.236150</td>\n",
              "      <td>-0.799197</td>\n",
              "      <td>-1.647959</td>\n",
              "      <td>0.393521</td>\n",
              "      <td>-1.681047</td>\n",
              "      <td>-1.184129</td>\n",
              "      <td>1.058278</td>\n",
              "      <td>-0.405867</td>\n",
              "      <td>-1.494323</td>\n",
              "      <td>-2.443396</td>\n",
              "      <td>-0.400082</td>\n",
              "    </tr>\n",
              "    <tr>\n",
              "      <th>2</th>\n",
              "      <td>-1.238757</td>\n",
              "      <td>-0.798729</td>\n",
              "      <td>-1.648064</td>\n",
              "      <td>0.392464</td>\n",
              "      <td>-1.681078</td>\n",
              "      <td>-1.184128</td>\n",
              "      <td>1.058289</td>\n",
              "      <td>-0.405854</td>\n",
              "      <td>-1.493755</td>\n",
              "      <td>-2.443404</td>\n",
              "      <td>-0.400974</td>\n",
              "    </tr>\n",
              "    <tr>\n",
              "      <th>3</th>\n",
              "      <td>-1.236180</td>\n",
              "      <td>-0.798417</td>\n",
              "      <td>-1.648285</td>\n",
              "      <td>0.393356</td>\n",
              "      <td>-1.681146</td>\n",
              "      <td>-1.184126</td>\n",
              "      <td>1.058270</td>\n",
              "      <td>-0.405836</td>\n",
              "      <td>-1.493529</td>\n",
              "      <td>-2.443409</td>\n",
              "      <td>-0.400174</td>\n",
              "    </tr>\n",
              "    <tr>\n",
              "      <th>4</th>\n",
              "      <td>-1.239442</td>\n",
              "      <td>-0.797432</td>\n",
              "      <td>-1.648303</td>\n",
              "      <td>0.393101</td>\n",
              "      <td>-1.681195</td>\n",
              "      <td>-1.184127</td>\n",
              "      <td>1.057279</td>\n",
              "      <td>-0.405455</td>\n",
              "      <td>-1.493738</td>\n",
              "      <td>-2.443413</td>\n",
              "      <td>-0.400565</td>\n",
              "    </tr>\n",
              "    <tr>\n",
              "      <th>...</th>\n",
              "      <td>...</td>\n",
              "      <td>...</td>\n",
              "      <td>...</td>\n",
              "      <td>...</td>\n",
              "      <td>...</td>\n",
              "      <td>...</td>\n",
              "      <td>...</td>\n",
              "      <td>...</td>\n",
              "      <td>...</td>\n",
              "      <td>...</td>\n",
              "      <td>...</td>\n",
              "    </tr>\n",
              "    <tr>\n",
              "      <th>1330811</th>\n",
              "      <td>-1.277497</td>\n",
              "      <td>-0.252853</td>\n",
              "      <td>-0.734801</td>\n",
              "      <td>0.410918</td>\n",
              "      <td>-0.651102</td>\n",
              "      <td>-1.184129</td>\n",
              "      <td>1.027466</td>\n",
              "      <td>-0.393952</td>\n",
              "      <td>-0.476927</td>\n",
              "      <td>-0.298612</td>\n",
              "      <td>-0.403264</td>\n",
              "    </tr>\n",
              "    <tr>\n",
              "      <th>1330812</th>\n",
              "      <td>-1.279909</td>\n",
              "      <td>-0.252853</td>\n",
              "      <td>-0.736038</td>\n",
              "      <td>0.410713</td>\n",
              "      <td>-0.653952</td>\n",
              "      <td>-1.184128</td>\n",
              "      <td>1.027461</td>\n",
              "      <td>-0.393952</td>\n",
              "      <td>-0.476796</td>\n",
              "      <td>-0.308136</td>\n",
              "      <td>-0.403264</td>\n",
              "    </tr>\n",
              "    <tr>\n",
              "      <th>1330813</th>\n",
              "      <td>-1.277003</td>\n",
              "      <td>-0.252853</td>\n",
              "      <td>-0.736995</td>\n",
              "      <td>0.411126</td>\n",
              "      <td>-0.656745</td>\n",
              "      <td>-1.184128</td>\n",
              "      <td>1.027480</td>\n",
              "      <td>-0.393939</td>\n",
              "      <td>-0.477067</td>\n",
              "      <td>-0.304750</td>\n",
              "      <td>-0.403264</td>\n",
              "    </tr>\n",
              "    <tr>\n",
              "      <th>1330814</th>\n",
              "      <td>-1.280131</td>\n",
              "      <td>-0.252852</td>\n",
              "      <td>-0.737626</td>\n",
              "      <td>0.410463</td>\n",
              "      <td>-0.658601</td>\n",
              "      <td>-1.184126</td>\n",
              "      <td>1.027453</td>\n",
              "      <td>-0.393972</td>\n",
              "      <td>-0.476829</td>\n",
              "      <td>-0.292215</td>\n",
              "      <td>-0.403264</td>\n",
              "    </tr>\n",
              "    <tr>\n",
              "      <th>1330815</th>\n",
              "      <td>-1.276320</td>\n",
              "      <td>-0.252852</td>\n",
              "      <td>-0.739760</td>\n",
              "      <td>0.411164</td>\n",
              "      <td>-0.659797</td>\n",
              "      <td>-1.184127</td>\n",
              "      <td>1.027456</td>\n",
              "      <td>-0.393964</td>\n",
              "      <td>-0.476594</td>\n",
              "      <td>-0.278688</td>\n",
              "      <td>-0.403264</td>\n",
              "    </tr>\n",
              "  </tbody>\n",
              "</table>\n",
              "<p>1330816 rows × 11 columns</p>\n",
              "</div>"
            ],
            "text/plain": [
              "              u_q   coolant  stator_winding  ...  stator_yoke   ambient    torque\n",
              "0       -1.238979 -0.799812       -1.648158  ...    -1.494244 -2.443386 -0.400838\n",
              "1       -1.236150 -0.799197       -1.647959  ...    -1.494323 -2.443396 -0.400082\n",
              "2       -1.238757 -0.798729       -1.648064  ...    -1.493755 -2.443404 -0.400974\n",
              "3       -1.236180 -0.798417       -1.648285  ...    -1.493529 -2.443409 -0.400174\n",
              "4       -1.239442 -0.797432       -1.648303  ...    -1.493738 -2.443413 -0.400565\n",
              "...           ...       ...             ...  ...          ...       ...       ...\n",
              "1330811 -1.277497 -0.252853       -0.734801  ...    -0.476927 -0.298612 -0.403264\n",
              "1330812 -1.279909 -0.252853       -0.736038  ...    -0.476796 -0.308136 -0.403264\n",
              "1330813 -1.277003 -0.252853       -0.736995  ...    -0.477067 -0.304750 -0.403264\n",
              "1330814 -1.280131 -0.252852       -0.737626  ...    -0.476829 -0.292215 -0.403264\n",
              "1330815 -1.276320 -0.252852       -0.739760  ...    -0.476594 -0.278688 -0.403264\n",
              "\n",
              "[1330816 rows x 11 columns]"
            ]
          },
          "metadata": {
            "tags": []
          },
          "execution_count": 9
        }
      ]
    },
    {
      "cell_type": "code",
      "metadata": {
        "colab": {
          "base_uri": "https://localhost:8080/"
        },
        "id": "FsuhqkyD9I9e",
        "outputId": "c6030873-4c0b-454b-af3e-5314ceaad3d4"
      },
      "source": [
        "y"
      ],
      "execution_count": 10,
      "outputs": [
        {
          "output_type": "execute_result",
          "data": {
            "text/plain": [
              "0          24.554214\n",
              "1          24.538078\n",
              "2          24.544693\n",
              "3          24.554018\n",
              "4          24.565397\n",
              "             ...    \n",
              "1330811    62.147780\n",
              "1330812    62.142646\n",
              "1330813    62.138387\n",
              "1330814    62.133422\n",
              "1330815    62.131429\n",
              "Name: pm, Length: 1330816, dtype: float64"
            ]
          },
          "metadata": {
            "tags": []
          },
          "execution_count": 10
        }
      ]
    },
    {
      "cell_type": "markdown",
      "metadata": {
        "id": "fx6FIZVV_R4f"
      },
      "source": [
        "EDA"
      ]
    },
    {
      "cell_type": "code",
      "metadata": {
        "id": "g4zxUddv9KjW"
      },
      "source": [
        "eda_df = pd.concat([X, y], axis=1).copy()"
      ],
      "execution_count": 11,
      "outputs": []
    },
    {
      "cell_type": "markdown",
      "metadata": {
        "id": "rB9jw13A_Wr-"
      },
      "source": [
        "UNIVARIATE ANALYSIS"
      ]
    },
    {
      "cell_type": "code",
      "metadata": {
        "colab": {
          "base_uri": "https://localhost:8080/",
          "height": 304
        },
        "id": "gI-nbVbu9Usm",
        "outputId": "7dd9e2d6-d64b-47b4-b65b-2433306e7cd2"
      },
      "source": [
        "eda_df.describe()"
      ],
      "execution_count": 12,
      "outputs": [
        {
          "output_type": "execute_result",
          "data": {
            "text/html": [
              "<div>\n",
              "<style scoped>\n",
              "    .dataframe tbody tr th:only-of-type {\n",
              "        vertical-align: middle;\n",
              "    }\n",
              "\n",
              "    .dataframe tbody tr th {\n",
              "        vertical-align: top;\n",
              "    }\n",
              "\n",
              "    .dataframe thead th {\n",
              "        text-align: right;\n",
              "    }\n",
              "</style>\n",
              "<table border=\"1\" class=\"dataframe\">\n",
              "  <thead>\n",
              "    <tr style=\"text-align: right;\">\n",
              "      <th></th>\n",
              "      <th>u_q</th>\n",
              "      <th>coolant</th>\n",
              "      <th>stator_winding</th>\n",
              "      <th>u_d</th>\n",
              "      <th>stator_tooth</th>\n",
              "      <th>motor_speed</th>\n",
              "      <th>i_d</th>\n",
              "      <th>i_q</th>\n",
              "      <th>stator_yoke</th>\n",
              "      <th>ambient</th>\n",
              "      <th>torque</th>\n",
              "      <th>pm</th>\n",
              "    </tr>\n",
              "  </thead>\n",
              "  <tbody>\n",
              "    <tr>\n",
              "      <th>count</th>\n",
              "      <td>1.330816e+06</td>\n",
              "      <td>1.330816e+06</td>\n",
              "      <td>1.330816e+06</td>\n",
              "      <td>1.330816e+06</td>\n",
              "      <td>1.330816e+06</td>\n",
              "      <td>1.330816e+06</td>\n",
              "      <td>1.330816e+06</td>\n",
              "      <td>1.330816e+06</td>\n",
              "      <td>1.330816e+06</td>\n",
              "      <td>1.330816e+06</td>\n",
              "      <td>1.330816e+06</td>\n",
              "      <td>1.330816e+06</td>\n",
              "    </tr>\n",
              "    <tr>\n",
              "      <th>mean</th>\n",
              "      <td>-1.413184e-15</td>\n",
              "      <td>-1.452328e-14</td>\n",
              "      <td>-1.619060e-14</td>\n",
              "      <td>-6.408338e-15</td>\n",
              "      <td>2.581035e-14</td>\n",
              "      <td>1.810846e-15</td>\n",
              "      <td>1.453754e-15</td>\n",
              "      <td>-5.795286e-16</td>\n",
              "      <td>-6.691870e-14</td>\n",
              "      <td>-2.172280e-13</td>\n",
              "      <td>4.327279e-13</td>\n",
              "      <td>5.850678e+01</td>\n",
              "    </tr>\n",
              "    <tr>\n",
              "      <th>std</th>\n",
              "      <td>1.000000e+00</td>\n",
              "      <td>1.000000e+00</td>\n",
              "      <td>1.000000e+00</td>\n",
              "      <td>1.000000e+00</td>\n",
              "      <td>1.000000e+00</td>\n",
              "      <td>1.000000e+00</td>\n",
              "      <td>1.000000e+00</td>\n",
              "      <td>1.000000e+00</td>\n",
              "      <td>1.000000e+00</td>\n",
              "      <td>1.000000e+00</td>\n",
              "      <td>1.000000e+00</td>\n",
              "      <td>1.900150e+01</td>\n",
              "    </tr>\n",
              "    <tr>\n",
              "      <th>min</th>\n",
              "      <td>-1.801316e+00</td>\n",
              "      <td>-1.175346e+00</td>\n",
              "      <td>-1.665627e+00</td>\n",
              "      <td>-1.686374e+00</td>\n",
              "      <td>-1.688055e+00</td>\n",
              "      <td>-1.332301e+00</td>\n",
              "      <td>-3.223109e+00</td>\n",
              "      <td>-3.588988e+00</td>\n",
              "      <td>-1.506242e+00</td>\n",
              "      <td>-8.179116e+00</td>\n",
              "      <td>-3.598497e+00</td>\n",
              "      <td>2.085696e+01</td>\n",
              "    </tr>\n",
              "    <tr>\n",
              "      <th>25%</th>\n",
              "      <td>-9.555356e-01</td>\n",
              "      <td>-8.047253e-01</td>\n",
              "      <td>-8.215244e-01</td>\n",
              "      <td>-8.488737e-01</td>\n",
              "      <td>-8.043913e-01</td>\n",
              "      <td>-1.013609e+00</td>\n",
              "      <td>-7.190350e-01</td>\n",
              "      <td>-3.939704e-01</td>\n",
              "      <td>-8.102463e-01</td>\n",
              "      <td>-7.154374e-01</td>\n",
              "      <td>-4.050452e-01</td>\n",
              "      <td>4.315158e+01</td>\n",
              "    </tr>\n",
              "    <tr>\n",
              "      <th>50%</th>\n",
              "      <td>-1.209064e-01</td>\n",
              "      <td>-4.282472e-01</td>\n",
              "      <td>-4.299018e-02</td>\n",
              "      <td>2.806072e-01</td>\n",
              "      <td>-3.669520e-02</td>\n",
              "      <td>-1.086778e-01</td>\n",
              "      <td>2.714027e-01</td>\n",
              "      <td>-2.347401e-01</td>\n",
              "      <td>-1.281805e-01</td>\n",
              "      <td>1.202738e-01</td>\n",
              "      <td>-2.624682e-01</td>\n",
              "      <td>6.026629e+01</td>\n",
              "    </tr>\n",
              "    <tr>\n",
              "      <th>75%</th>\n",
              "      <td>8.094359e-01</td>\n",
              "      <td>6.255120e-01</td>\n",
              "      <td>7.602662e-01</td>\n",
              "      <td>4.216716e-01</td>\n",
              "      <td>8.150887e-01</td>\n",
              "      <td>8.380866e-01</td>\n",
              "      <td>1.012381e+00</td>\n",
              "      <td>6.855945e-01</td>\n",
              "      <td>6.639420e-01</td>\n",
              "      <td>8.560482e-01</td>\n",
              "      <td>7.842169e-01</td>\n",
              "      <td>7.200837e+01</td>\n",
              "    </tr>\n",
              "    <tr>\n",
              "      <th>max</th>\n",
              "      <td>1.782935e+00</td>\n",
              "      <td>3.000463e+00</td>\n",
              "      <td>2.616490e+00</td>\n",
              "      <td>2.482149e+00</td>\n",
              "      <td>2.399238e+00</td>\n",
              "      <td>2.042271e+00</td>\n",
              "      <td>1.059068e+00</td>\n",
              "      <td>2.867105e+00</td>\n",
              "      <td>2.649193e+00</td>\n",
              "      <td>3.186775e+00</td>\n",
              "      <td>2.980456e+00</td>\n",
              "      <td>1.136066e+02</td>\n",
              "    </tr>\n",
              "  </tbody>\n",
              "</table>\n",
              "</div>"
            ],
            "text/plain": [
              "                u_q       coolant  ...        torque            pm\n",
              "count  1.330816e+06  1.330816e+06  ...  1.330816e+06  1.330816e+06\n",
              "mean  -1.413184e-15 -1.452328e-14  ...  4.327279e-13  5.850678e+01\n",
              "std    1.000000e+00  1.000000e+00  ...  1.000000e+00  1.900150e+01\n",
              "min   -1.801316e+00 -1.175346e+00  ... -3.598497e+00  2.085696e+01\n",
              "25%   -9.555356e-01 -8.047253e-01  ... -4.050452e-01  4.315158e+01\n",
              "50%   -1.209064e-01 -4.282472e-01  ... -2.624682e-01  6.026629e+01\n",
              "75%    8.094359e-01  6.255120e-01  ...  7.842169e-01  7.200837e+01\n",
              "max    1.782935e+00  3.000463e+00  ...  2.980456e+00  1.136066e+02\n",
              "\n",
              "[8 rows x 12 columns]"
            ]
          },
          "metadata": {
            "tags": []
          },
          "execution_count": 12
        }
      ]
    },
    {
      "cell_type": "code",
      "metadata": {
        "colab": {
          "base_uri": "https://localhost:8080/",
          "height": 1000
        },
        "id": "rOcovJod9XjD",
        "outputId": "0c9e8341-3a8d-4b32-8b8b-add569ffcb0a"
      },
      "source": [
        "plt.figure(figsize=(16, 12))\n",
        "for i in range(len(eda_df.columns)):\n",
        "    plt.subplot(3, 4, i + 1)\n",
        "    sns.boxplot(eda_df[eda_df.columns[i]])\n",
        "plt.show()"
      ],
      "execution_count": 18,
      "outputs": [
        {
          "output_type": "stream",
          "text": [
            "/usr/local/lib/python3.7/dist-packages/seaborn/_decorators.py:43: FutureWarning: Pass the following variable as a keyword arg: x. From version 0.12, the only valid positional argument will be `data`, and passing other arguments without an explicit keyword will result in an error or misinterpretation.\n",
            "  FutureWarning\n",
            "/usr/local/lib/python3.7/dist-packages/seaborn/_decorators.py:43: FutureWarning: Pass the following variable as a keyword arg: x. From version 0.12, the only valid positional argument will be `data`, and passing other arguments without an explicit keyword will result in an error or misinterpretation.\n",
            "  FutureWarning\n",
            "/usr/local/lib/python3.7/dist-packages/seaborn/_decorators.py:43: FutureWarning: Pass the following variable as a keyword arg: x. From version 0.12, the only valid positional argument will be `data`, and passing other arguments without an explicit keyword will result in an error or misinterpretation.\n",
            "  FutureWarning\n",
            "/usr/local/lib/python3.7/dist-packages/seaborn/_decorators.py:43: FutureWarning: Pass the following variable as a keyword arg: x. From version 0.12, the only valid positional argument will be `data`, and passing other arguments without an explicit keyword will result in an error or misinterpretation.\n",
            "  FutureWarning\n",
            "/usr/local/lib/python3.7/dist-packages/seaborn/_decorators.py:43: FutureWarning: Pass the following variable as a keyword arg: x. From version 0.12, the only valid positional argument will be `data`, and passing other arguments without an explicit keyword will result in an error or misinterpretation.\n",
            "  FutureWarning\n",
            "/usr/local/lib/python3.7/dist-packages/seaborn/_decorators.py:43: FutureWarning: Pass the following variable as a keyword arg: x. From version 0.12, the only valid positional argument will be `data`, and passing other arguments without an explicit keyword will result in an error or misinterpretation.\n",
            "  FutureWarning\n",
            "/usr/local/lib/python3.7/dist-packages/seaborn/_decorators.py:43: FutureWarning: Pass the following variable as a keyword arg: x. From version 0.12, the only valid positional argument will be `data`, and passing other arguments without an explicit keyword will result in an error or misinterpretation.\n",
            "  FutureWarning\n",
            "/usr/local/lib/python3.7/dist-packages/seaborn/_decorators.py:43: FutureWarning: Pass the following variable as a keyword arg: x. From version 0.12, the only valid positional argument will be `data`, and passing other arguments without an explicit keyword will result in an error or misinterpretation.\n",
            "  FutureWarning\n",
            "/usr/local/lib/python3.7/dist-packages/seaborn/_decorators.py:43: FutureWarning: Pass the following variable as a keyword arg: x. From version 0.12, the only valid positional argument will be `data`, and passing other arguments without an explicit keyword will result in an error or misinterpretation.\n",
            "  FutureWarning\n",
            "/usr/local/lib/python3.7/dist-packages/seaborn/_decorators.py:43: FutureWarning: Pass the following variable as a keyword arg: x. From version 0.12, the only valid positional argument will be `data`, and passing other arguments without an explicit keyword will result in an error or misinterpretation.\n",
            "  FutureWarning\n",
            "/usr/local/lib/python3.7/dist-packages/seaborn/_decorators.py:43: FutureWarning: Pass the following variable as a keyword arg: x. From version 0.12, the only valid positional argument will be `data`, and passing other arguments without an explicit keyword will result in an error or misinterpretation.\n",
            "  FutureWarning\n",
            "/usr/local/lib/python3.7/dist-packages/seaborn/_decorators.py:43: FutureWarning: Pass the following variable as a keyword arg: x. From version 0.12, the only valid positional argument will be `data`, and passing other arguments without an explicit keyword will result in an error or misinterpretation.\n",
            "  FutureWarning\n"
          ],
          "name": "stderr"
        },
        {
          "output_type": "display_data",
          "data": {
            "image/png": "[encoded data removed]",
            "text/plain": [
              "<Figure size 1152x864 with 12 Axes>"
            ]
          },
          "metadata": {
            "tags": []
          }
        }
      ]
    },
    {
      "cell_type": "code",
      "metadata": {
        "id": "s9mXFsC59dnK"
      },
      "source": [
        "X_train, X_test, y_train, y_test = train_test_split(X, y, train_size=0.7, random_state=123)"
      ],
      "execution_count": 15,
      "outputs": []
    },
    {
      "cell_type": "code",
      "metadata": {
        "colab": {
          "base_uri": "https://localhost:8080/"
        },
        "id": "J16rWoKd90VI",
        "outputId": "cd8284f6-dd3a-40d5-89a1-02121ba4b8f7"
      },
      "source": [
        "model = LinearRegression()\n",
        "model.fit(X_train, y_train)"
      ],
      "execution_count": 16,
      "outputs": [
        {
          "output_type": "execute_result",
          "data": {
            "text/plain": [
              "LinearRegression(copy_X=True, fit_intercept=True, n_jobs=None, normalize=False)"
            ]
          },
          "metadata": {
            "tags": []
          },
          "execution_count": 16
        }
      ]
    },
    {
      "cell_type": "code",
      "metadata": {
        "colab": {
          "base_uri": "https://localhost:8080/"
        },
        "id": "IN9fCAnT92ZJ",
        "outputId": "4e7b07ed-3bdf-4827-ea5d-73e6bc4c248c"
      },
      "source": [
        "print(\"Model R^2 Score: {:.4f}\".format(model.score(X_test, y_test)))"
      ],
      "execution_count": 17,
      "outputs": [
        {
          "output_type": "stream",
          "text": [
            "Model R^2 Score: 0.8553\n"
          ],
          "name": "stdout"
        }
      ]
    },
    {
      "cell_type": "code",
      "metadata": {
        "id": "h_dJkQlA95Co"
      },
      "source": [
        ""
      ],
      "execution_count": null,
      "outputs": []
    }
  ]
}